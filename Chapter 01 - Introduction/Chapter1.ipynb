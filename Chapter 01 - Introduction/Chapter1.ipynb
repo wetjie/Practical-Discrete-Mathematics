{
  "cells": [
    {
      "cell_type": "markdown",
      "metadata": {
        "id": "view-in-github",
        "colab_type": "text"
      },
      "source": [
        "<a href=\"https://colab.research.google.com/github/wetjie/Practical-Discrete-Mathematics/blob/master/Chapter%2001%20-%20Introduction/Chapter1.ipynb\" target=\"_parent\"><img src=\"https://colab.research.google.com/assets/colab-badge.svg\" alt=\"Open In Colab\"/></a>"
      ]
    },
    {
      "cell_type": "markdown",
      "metadata": {
        "id": "lYTj64jGWxxD"
      },
      "source": [
        "# Chapter 1 - Introduction: Key Concepts, Notation, Set Theory, Relations, and Functions\n",
        "\n",
        "This notebook contains code accompanying Chapter 1 Introduction: Key Concepts, Notation, Set Theory, Relations, and Functions in *Practical Discrete Mathematics* by Ryan T. White and Archana Tikayat Ray\n",
        "\n",
        "## Functions and Relations\n",
        "\n",
        "### The `sort()` function"
      ]
    },
    {
      "cell_type": "code",
      "execution_count": 1,
      "metadata": {
        "id": "kcor867OWxxG",
        "outputId": "262ba201-eccf-4326-ebd0-21fd57a6db77",
        "colab": {
          "base_uri": "https://localhost:8080/"
        }
      },
      "outputs": [
        {
          "output_type": "stream",
          "name": "stdout",
          "text": [
            "[1, 2, 3, 4, 5, 8, 9, 12]\n",
            "['Brandon', 'Elise', 'Eugene', 'Kumar', 'Wyatt']\n"
          ]
        }
      ],
      "source": [
        "numbers = [3, 1, 4, 12, 8, 5, 2, 9]\n",
        "names = ['Wyatt', 'Brandon', 'Kumar', 'Eugene', 'Elise']\n",
        "\n",
        "# Apply the sort() function to the lists\n",
        "numbers.sort()\n",
        "names.sort()\n",
        "\n",
        "# Display the output\n",
        "print(numbers)\n",
        "print(names)"
      ]
    },
    {
      "cell_type": "markdown",
      "metadata": {
        "id": "RD42xxpkWxxI"
      },
      "source": [
        "### The `shuffle()` function"
      ]
    },
    {
      "cell_type": "code",
      "execution_count": null,
      "metadata": {
        "id": "Yjf7HtKfWxxJ",
        "outputId": "e0f0d80e-fa58-4f95-d82c-f0471e4e71af"
      },
      "outputs": [
        {
          "name": "stdout",
          "output_type": "stream",
          "text": [
            "[12, 2, 1, 5, 9, 3, 8, 4]\n",
            "[4, 2, 8, 3, 1, 12, 5, 9]\n",
            "[4, 5, 1, 9, 3, 8, 12, 2]\n",
            "[9, 12, 2, 8, 5, 3, 4, 1]\n",
            "[9, 8, 4, 3, 12, 1, 5, 2]\n"
          ]
        }
      ],
      "source": [
        "import random\n",
        "\n",
        "# Set a random seed so the code is reproducible\n",
        "random.seed(1)\n",
        "\n",
        "# Run the random.shuffle() function 5 times and display the outputs\n",
        "for i in range(0,5):\n",
        "    numbers = [3, 1, 4, 12, 8, 5, 2, 9]\n",
        "    random.shuffle(numbers)\n",
        "    print(numbers)"
      ]
    },
    {
      "cell_type": "code",
      "source": [
        "import random\n",
        "\n",
        "# Generate two sets of random numbers\n",
        "set1 = set(random.sample(range(1, 50), 10))\n",
        "set2 = set(random.sample(range(1, 50), 10))\n",
        "\n",
        "# Find common elements\n",
        "common_numbers = set1.intersection(set2)\n",
        "\n",
        "print(\"Set 1:\", set1)\n",
        "print(\"Set 2:\", set2)\n",
        "print(\"Common numbers:\", common_numbers)\n"
      ],
      "metadata": {
        "id": "kv54WjJWZQPW",
        "outputId": "c1b37d44-aac9-44be-a2c9-bb64bda423fb",
        "colab": {
          "base_uri": "https://localhost:8080/"
        }
      },
      "execution_count": 2,
      "outputs": [
        {
          "output_type": "stream",
          "name": "stdout",
          "text": [
            "Set 1: {33, 2, 35, 37, 39, 40, 9, 13, 23, 28}\n",
            "Set 2: {2, 6, 7, 8, 40, 42, 10, 46, 47, 25}\n",
            "Common numbers: {40, 2}\n"
          ]
        }
      ]
    },
    {
      "cell_type": "markdown",
      "source": [
        "Question1: randomly create 2 set of number,find the common numbers in the 2 sets ."
      ],
      "metadata": {
        "id": "QAEWfMmKbHAp"
      }
    },
    {
      "cell_type": "code",
      "source": [
        "import random\n",
        "\n",
        "def shuffle_name(name):\n",
        "    name_list = list(name)\n",
        "    random.shuffle(name_list)\n",
        "    return ''.join(name_list)\n",
        "\n",
        "# Example usage\n",
        "name = \"Apple Chan\"\n",
        "shuffled_name = shuffle_name(name)\n",
        "print(\"Original name:\", name)\n",
        "print(\"Shuffled name:\", shuffled_name)\n"
      ],
      "metadata": {
        "id": "3AhTbS9lbnxg",
        "outputId": "18c340d6-50f0-483a-b83a-11fd8e2ac112",
        "colab": {
          "base_uri": "https://localhost:8080/"
        }
      },
      "execution_count": 3,
      "outputs": [
        {
          "output_type": "stream",
          "name": "stdout",
          "text": [
            "Original name: Apple Chan\n",
            "Shuffled name: lpp aehAnC\n"
          ]
        }
      ]
    },
    {
      "cell_type": "markdown",
      "source": [
        "Question2:shuffle the character in your name.For example:Apple Chan.After shuffle:example eplepa nhac."
      ],
      "metadata": {
        "id": "92LI31QRbu-J"
      }
    },
    {
      "cell_type": "code",
      "source": [
        "import pandas as pd\n",
        "\n",
        "# URL of the Wikipedia page\n",
        "url = \"https://en.wikipedia.org/wiki/Frieren\"\n",
        "\n",
        "# Use pandas to read the tables on the page\n",
        "tables = pd.read_html(url)\n",
        "\n",
        "# Let's assume you want to extract the first table\n",
        "table = tables[0]\n",
        "\n",
        "print(table)\n"
      ],
      "metadata": {
        "id": "XG1uGdVnbxWt",
        "outputId": "8b0484b2-978f-40a7-fd4a-84d92a87ba92",
        "colab": {
          "base_uri": "https://localhost:8080/"
        }
      },
      "execution_count": 4,
      "outputs": [
        {
          "output_type": "stream",
          "name": "stdout",
          "text": [
            "                                                    0  \\\n",
            "0                       Frieren: Beyond Journey's End   \n",
            "1   First tankōbon volume cover, featuring (from l...   \n",
            "2                          葬送のフリーレン (Sōsō no Furīren)   \n",
            "3                                               Genre   \n",
            "4                                               Manga   \n",
            "5                                          Written by   \n",
            "6                                      Illustrated by   \n",
            "7                                        Published by   \n",
            "8                                   English publisher   \n",
            "9                                             Imprint   \n",
            "10                                           Magazine   \n",
            "11                                        Demographic   \n",
            "12                                       Original run   \n",
            "13                                            Volumes   \n",
            "14                            Anime television series   \n",
            "15                                        Directed by   \n",
            "16                                         Written by   \n",
            "17                                           Music by   \n",
            "18                                             Studio   \n",
            "19                                        Licensed by   \n",
            "20                                   Original network   \n",
            "21                                       Original run   \n",
            "22                                           Episodes   \n",
            "23                             Anime and manga portal   \n",
            "\n",
            "                                                    1  \n",
            "0                       Frieren: Beyond Journey's End  \n",
            "1   First tankōbon volume cover, featuring (from l...  \n",
            "2                          葬送のフリーレン (Sōsō no Furīren)  \n",
            "3                      Adventure[1]Drama[1]Fantasy[1]  \n",
            "4                                               Manga  \n",
            "5                                Kanehito Yamada [ja]  \n",
            "6                                    Tsukasa Abe [ja]  \n",
            "7                                          Shogakukan  \n",
            "8                   NA: Viz MediaSEA: Shogakukan Asia  \n",
            "9                                Shōnen Sunday Comics  \n",
            "10                               Weekly Shōnen Sunday  \n",
            "11                                             Shōnen  \n",
            "12                           April 28, 2020 – present  \n",
            "13                               13 (List of volumes)  \n",
            "14                            Anime television series  \n",
            "15                               Keiichirō Saitō [ja]  \n",
            "16                                    Tomohiro Suzuki  \n",
            "17                                          Evan Call  \n",
            "18                                           Madhouse  \n",
            "19                 CrunchyrollSEA: Muse Communication  \n",
            "20                                    NNS (Nippon TV)  \n",
            "21                       September 29, 2023 – present  \n",
            "22                              28 (List of episodes)  \n",
            "23                             Anime and manga portal  \n"
          ]
        }
      ]
    },
    {
      "cell_type": "markdown",
      "source": [
        "Question3: extract a table form wikipedia https://en.wikipedia.org/wiki/Frieren"
      ],
      "metadata": {
        "id": "7hpKVmiUcPzH"
      }
    }
  ],
  "metadata": {
    "kernelspec": {
      "display_name": "Python 3",
      "name": "python3"
    },
    "language_info": {
      "name": "python"
    },
    "colab": {
      "provenance": [],
      "include_colab_link": true
    }
  },
  "nbformat": 4,
  "nbformat_minor": 0
}